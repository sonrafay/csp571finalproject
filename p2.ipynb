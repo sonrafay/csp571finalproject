{
 "cells": [
  {
   "cell_type": "code",
   "execution_count": 1,
   "metadata": {},
   "outputs": [],
   "source": [
    "import pandas as pd\n",
    "\n",
    "file_path = 'archive/rideshare_kaggle.csv'\n",
    "rideshare_data = pd.read_csv(file_path)\n"
   ]
  },
  {
   "cell_type": "code",
   "execution_count": null,
   "metadata": {},
   "outputs": [],
   "source": [
    "# Display the first five rows\n",
    "print(rideshare_data.head())\n",
    "\n",
    "# Get a concise summary of the DataFrame\n",
    "print(\"info\")\n",
    "print(rideshare_data.info())\n",
    "\n",
    "# Get descriptive statistics for numerical columns\n",
    "print(\"describe\")\n",
    "print(rideshare_data.describe())\n"
   ]
  },
  {
   "cell_type": "code",
   "execution_count": null,
   "metadata": {},
   "outputs": [],
   "source": [
    "# Check for missing values\n",
    "print(rideshare_data.isnull().sum())\n",
    "\n",
    "# Example: Drop rows with missing values\n",
    "rideshare_data = rideshare_data.dropna()\n",
    "\n",
    "print(\"After dropping rows with missing values\")\n",
    "print(rideshare_data.isnull().sum())\n"
   ]
  },
  {
   "cell_type": "code",
   "execution_count": null,
   "metadata": {},
   "outputs": [],
   "source": [
    "# Convert 'timestamp' column to datetime\n",
    "rideshare_data['timestamp'] = pd.to_datetime(rideshare_data['timestamp'])\n",
    "\n",
    "\n",
    "# Extract hour from 'timestamp'\n",
    "rideshare_data['hour'] = rideshare_data['timestamp'].dt.hour\n",
    "\n",
    "# Save to a new CSV file\n",
    "rideshare_data.to_csv('archive/rideshare_data_cleaned.csv', index=False)\n"
   ]
  }
 ],
 "metadata": {
  "kernelspec": {
   "display_name": "base",
   "language": "python",
   "name": "python3"
  },
  "language_info": {
   "codemirror_mode": {
    "name": "ipython",
    "version": 3
   },
   "file_extension": ".py",
   "mimetype": "text/x-python",
   "name": "python",
   "nbconvert_exporter": "python",
   "pygments_lexer": "ipython3",
   "version": "3.11.5"
  }
 },
 "nbformat": 4,
 "nbformat_minor": 2
}
